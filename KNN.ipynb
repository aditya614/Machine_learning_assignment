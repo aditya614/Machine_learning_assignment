

 {
   "cells": [
      {
         "cell_type": "code",
         "execution_count": null,
         "metadata": {},
         "outputs": [],
         "source": [
            "import numpy as np\n",
            "import pandas as pd\n",
            "from sklearn.preprocessing import LabelEncoder, StandardScaler"
         ]
      },
      {
         "cell_type": "code",
         "execution_count": null,
         "metadata": {},
         "outputs": [],
         "source": [
            "train = pd.read_csv('/Users/chinmayanand/downloads/titanic/train.csv')\n",
            "test = pd.read_csv('/Users/chinmayanand/downloads/titanic/test.csv')"
         ]
      },
      {
         "cell_type": "code",
         "execution_count": null,
         "metadata": {},
         "outputs": [],
         "source": [
            "train['set'], test['set'] = 'train', 'test'\n",
            "combined = pd.concat([train, test])"
         ]
      },
      {
         "cell_type": "code",
         "execution_count": null,
         "metadata": {},
         "outputs": [],
         "source": [
            "combined.isnull().sum()"
         ]
      },
      {
         "cell_type": "markdown",
         "metadata": {},
         "source": [
            "combined = combined.drop(['Cabin', 'Embarked'], axis=1)"
         ]
      },
      {
         "cell_type": "code",
         "execution_count": null,
         "metadata": {},
         "outputs": [],
         "source": [
            "pclass = combined.loc[combined.Fare.isnull(), 'Pclass'].values[0]\n",
            "median_fare = combined.loc[combined.Pclass== pclass, 'Fare'].median()\n",
            "combined.loc[combined.Fare.isnull(), 'Fare'] = median_fare"
         ]
      },
      {
         "cell_type": "markdown",
         "metadata": {},
         "source": [
            "Select everything before the . as title"
         ]
      },
      {
         "cell_type": "code",
         "execution_count": null,
         "metadata": {},
         "outputs": [],
         "source": [
            "combined['Title'] = combined['Name'].str.extract('([A-Za-z]+)\\.', expand=True)\n",
            "combined['Title'].unique()"
         ]
      },
      {
         "cell_type": "code",
         "execution_count": null,
         "metadata": {},
         "outputs": [],
         "source": [
            "title_reduction = {'Mr': 'Mr', 'Mrs': 'Mrs', 'Miss': 'Miss', \n",
            "                   'Master': 'Master', 'Don': 'Mr', 'Rev': 'Rev',\n",
            "                   'Dr': 'Dr', 'Mme': 'Miss', 'Ms': 'Miss',\n",
            "                   'Major': 'Mr', 'Lady': 'Mrs', 'Sir': 'Mr',\n",
            "                   'Mlle': 'Miss', 'Col': 'Mr', 'Capt': 'Mr',\n",
            "                   'Countess': 'Mrs','Jonkheer': 'Mr',\n",
            "                   'Dona': 'Mrs'}\n",
            "combined['Title'] = combined['Title'].map(title_reduction)\n",
            "combined['Title'].unique()"
         ]
      },
      {
         "cell_type": "code",
         "execution_count": null,
         "metadata": {},
         "outputs": [],
         "source": [
            "for title, age in combined.groupby('Title')['Age'].median().iteritems():\n",
            "    print(title, age)\n",
            "    combined.loc[(combined['Title']==title) & (combined['Age'].isnull()), 'Age'] = age\n",
            "    \n",
            "combined.isnull().sum()\n",
            "    \n",
            "def other_family_members_survived(dataset, label='family_survival'):\n",
            "    \n",
            "     ds = dataset.copy()\n",
            "     if len(dataset) == 1:\n",
            "        ds[label] = 0.5\n",
            "        return ds\n",
            "     result = []\n",
            "     for ix, row in dataset.iterrows():\n",
            "        survived_fraction = dataset.drop(ix)['Survived'].mean()\n",
            "        if np.isnan(survived_fraction):\n",
            "            result.append(0.5)\n",
            "        elif survived_fraction == 0:\n",
            "            result.append(0)\n",
            "        else:\n",
            "            result.append(1)\n",
            "     ds[label] = result\n",
            "     return ds\n",
            " \n",
            "combined['surname'] = combined['Name'].apply(lambda x: x.split(\",\")[0])\n",
            "combined = combined.groupby(['surname', 'Fare']).apply(other_family_members_survived).reset_index(drop=True)"
         ]
      },
      {
         "cell_type": "code",
         "execution_count": null,
         "metadata": {},
         "outputs": [],
         "source": [
            "combined = combined.groupby(['Ticket']).apply(lambda x: other_family_members_survived(x, label='family_survival_ticket')).reset_index(drop=True)\n",
            "combined.loc[combined['family_survival'] == 0.5, 'family_survival'] = combined.loc[combined['family_survival'] == 0.5, 'family_survival_ticket']"
         ]
      },
      {
         "cell_type": "code",
         "execution_count": null,
         "metadata": {},
         "outputs": [],
         "source": [
            "combined['family_size'] = combined['Parch'] + combined['SibSp']"
         ]
      },
      {
         "cell_type": "code",
         "execution_count": null,
         "metadata": {},
         "outputs": [],
         "source": [
            "combined['Sex'] = LabelEncoder().fit_transform(combined['Sex'])"
         ]
      },
      {
         "cell_type": "code",
         "execution_count": null,
         "metadata": {},
         "outputs": [],
         "source": [
            "combined.loc[:, 'Age'] = pd.qcut(combined['Age'], 4, labels=False)\n",
            "combined.loc[:, 'Fare'] = pd.qcut(combined['Fare'], 5, labels=False)"
         ]
      },
      {
         "cell_type": "code",
         "execution_count": null,
         "metadata": {},
         "outputs": [],
         "source": [
            "selected = ['Pclass', 'Sex', 'Age', 'Fare', 'family_size', 'family_survival']\n",
            "scaler  = StandardScaler()\n",
            "scaler.fit(combined[selected])\n",
            "combined[selected] = scaler.transform(combined[selected])"
         ]
      },
      {
         "cell_type": "code",
         "execution_count": null,
         "metadata": {},
         "outputs": [],
         "source": [
            "combined.to_parquet('titanic_family_survivabillity.parquet', index=False)"
         ]
      },
      {
         "cell_type": "code",
         "execution_count": null,
         "metadata": {},
         "outputs": [],
         "source": [
            "train = combined.loc[combined['set'] == 'train'].drop('set', axis=1).reset_index(drop=True)\n",
            "test = combined.loc[combined['set'] == 'test'].drop(['set', 'Survived'], axis=1).reset_index(drop=True)"
         ]
      },
      {
         "cell_type": "code",
         "execution_count": null,
         "metadata": {},
         "outputs": [],
         "source": [
            "def euclidean_distance(vector1, vector2):\n",
            "    return np.sqrt(np.sum((vector1 - vector2)**2))"
         ]
      },
      {
         "cell_type": "markdown",
         "metadata": {},
         "source": [
            "test function"
         ]
      },
      {
         "cell_type": "code",
         "execution_count": null,
         "metadata": {},
         "outputs": [],
         "source": [
            "vec1 = np.array([3, 0])\n",
            "vec2 = np.array([0, 4])"
         ]
      },
      {
         "cell_type": "markdown",
         "metadata": {},
         "source": [
            "this is the 3:4:5 triangle and therefore, it should return 5 (Long live Pythagoras)"
         ]
      },
      {
         "cell_type": "code",
         "execution_count": null,
         "metadata": {},
         "outputs": [],
         "source": [
            "euclidean_distance(vec1, vec2)"
         ]
      },
      {
         "cell_type": "markdown",
         "metadata": {},
         "source": [
            "A first implementation"
         ]
      },
      {
         "cell_type": "code",
         "execution_count": null,
         "metadata": {},
         "outputs": [],
         "source": [
            "def get_nearest_neighbor(vector, dataset, number_of_neighbors=1, ignore_cols=['Survived']):\n",
            "    distances = []\n",
            "    for ix, row in dataset.loc[:, ~dataset.columns.isin(ignore_cols)].iterrows():\n",
            "        distance = euclidean_distance(row, vector)\n",
            "        distances.append((distance, ix))\n",
            "    indices = [x[1] for x in sorted(distances, key=lambda x: x[0])]\n",
            "    neighbors = dataset.loc[indices[:number_of_neighbors]]\n",
            "    return neighbors"
         ]
      },
      {
         "cell_type": "markdown",
         "metadata": {},
         "source": [
            "Another implementation using Pandas"
         ]
      },
      {
         "cell_type": "code",
         "execution_count": null,
         "metadata": {},
         "outputs": [],
         "source": [
            "def get_nearest_neighbor(vector, dataset, number_of_vectors=1, ignore_cols=['Survived'], not_count_duplicates=False):\n",
            "    ds = dataset.copy()\n",
            "    ds['distance'] = ds.loc[:, ~ds.columns.isin(ignore_cols)].apply(\n",
            "        lambda x: euclidean_distance(x, vector), axis=1)\n",
            "    if not_count_duplicates:\n",
            "        distances = sorted(ds.distance.unique())[:number_of_vectors]\n",
            "        return ds.loc[ds.distance <= max(distances)].drop('distance', axis=1)\n",
            "    return ds.sort_values('distance', ascending=True).head(number_of_vectors).drop('distance', axis=1)\n",
            "        \n",
            "# test function\n",
            "dataset = pd.DataFrame([\n",
            "    {'a': 1, 'b': 1, 'Survived': 1},\n",
            "    {'a': 2, 'b': 2, 'Survived': 1},\n",
            "    {'a': 3, 'b': 3, 'Survived': 0},\n",
            "    {'a': 4, 'b': 4, 'Survived': 0},\n",
            "    {'a': 5, 'b': 5, 'Survived': 0},\n",
            "])\n",
            "vector = pd.Series({'a': 2.5, 'b': 2.5})"
         ]
      },
      {
         "cell_type": "markdown",
         "metadata": {},
         "source": [
            "should be (2,2) and (3,3) (if keeping track of duplicates)"
         ]
      },
      {
         "cell_type": "code",
         "execution_count": null,
         "metadata": {},
         "outputs": [],
         "source": [
            "get_nearest_neighbor(vector, dataset)"
         ]
      },
      {
         "cell_type": "code",
         "execution_count": null,
         "metadata": {},
         "outputs": [],
         "source": [
            "def predict(vector, dataset, number_of_neighbors=1, y='Survived'):\n",
            "    neighbors = get_nearest_neighbor(vector, dataset, number_of_neighbors)\n",
            "    return round(neighbors[y].mean())"
         ]
      },
      {
         "cell_type": "markdown",
         "metadata": {},
         "source": [
            "test function"
         ]
      },
      {
         "cell_type": "code",
         "execution_count": null,
         "metadata": {},
         "outputs": [],
         "source": [
            "print(predict(vector, dataset))\n",
            "print(predict(pd.Series({'a': 4.5, 'b': 4.5}), dataset))"
         ]
      },
      {
         "cell_type": "code",
         "execution_count": null,
         "metadata": {},
         "outputs": [],
         "source": [
            "def predict_dataset(dataset, number_of_neighbors=1):\n",
            "    ds = dataset.copy()\n",
            "    def predict_row(vector, dataset):\n",
            "        subset = dataset.loc[~(dataset.index==vector.name)]\n",
            "        if vector.name % 100 == 0:\n",
            "            print(vector.name)\n",
            "        return int(predict(vector, subset, number_of_neighbors))\n",
            "    ds['predicted'] = ds.loc[:, ds.columns.isin(selected)].apply(\n",
            "        lambda x: predict_row(x, ds), axis=1)\n",
            "    \n",
            "    return ds"
         ]
      },
      {
         "cell_type": "code",
         "execution_count": null,
         "metadata": {},
         "outputs": [],
         "source": [
            "ds = predict_dataset(train, number_of_neighbors=10)"
         ]
      },
      {
         "cell_type": "code",
         "execution_count": null,
         "metadata": {},
         "outputs": [],
         "source": [
            "print('Accuracy:', sum(ds['Survived'] == ds['predicted']) / len(ds))"
         ]
      },
      {
         "cell_type": "code",
         "execution_count": null,
         "metadata": {},
         "outputs": [],
         "source": [
            "def predict_testset(test_dataset, train_dataset, number_of_neighbors=1):\n",
            "    ds = test_dataset.copy()\n",
            "    select = selected + ['Survived']\n",
            "    \n",
            "    def predict_row(vector, dataset):\n",
            "        if vector.name % 100 == 0:\n",
            "            print(vector.name)\n",
            "        return int(predict(vector, dataset[select], number_of_neighbors))\n",
            "    ds['Survived'] = ds.loc[:, ds.columns.isin(selected)].apply(\n",
            "        lambda x: predict_row(x, train_dataset), axis=1)\n",
            "    \n",
            "    return ds"
         ]
      },
      {
         "cell_type": "code",
         "execution_count": null,
         "metadata": {},
         "outputs": [],
         "source": [
            "final_test = predict_testset(test, train, number_of_neighbors=10)"
         ]
      },
      {
         "cell_type": "code",
         "execution_count": null,
         "metadata": {},
         "outputs": [],
         "source": [
            "result = final_test[['PassengerId', 'Survived']].copy()"
         ]
      },
      {
         "cell_type": "code",
         "execution_count": null,
         "metadata": {},
         "outputs": [],
         "source": [
            "result.to_csv('results.csv', index=False)"
         ]
      }
   ],
   "metadata": {
      "kernelspec": {
         "display_name": "Python 3",
         "language": "python",
         "name": "python3"
      },
      "language_info": {
         "codemirror_mode": {
            "name": "ipython",
            "version": 3
         },
         "file_extension": ".py",
         "mimetype": "text/x-python",
         "name": "python",
         "nbconvert_exporter": "python",
         "pygments_lexer": "ipython3",
         "version": "3.6.4"
      }
   },
   "nbformat": 4,
   "nbformat_minor": 2
}
