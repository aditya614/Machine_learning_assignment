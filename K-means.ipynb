


 {
   "cells": [
      {
         "cell_type": "code",
         "execution_count": null,
         "metadata": {},
         "outputs": [],
         "source": [
            "import pandas as pd\n",
            "import numpy as np\n",
            "import matplotlib.pyplot as plt \n",
            "import seaborn as sns\n",
            "from sklearn.cluster import KMeans \n",
            "from sklearn.metrics import silhouette_score\n",
            "from sklearn.preprocessing import MinMaxScaler"
         ]
      },
      {
         "cell_type": "code",
         "execution_count": null,
         "metadata": {},
         "outputs": [],
         "source": [
            "iris = pd.read_csv(\"/Users/chinmayanand/downloads/Iris Dataset.csv\")\n",
            "x = iris.iloc[:, [0, 1, 2, 3]].values"
         ]
      },
      {
         "cell_type": "code",
         "execution_count": null,
         "metadata": {},
         "outputs": [],
         "source": [
            "iris.info()\n",
            "iris[0:10]"
         ]
      },
      {
         "cell_type": "markdown",
         "metadata": {},
         "source": [
            "requency distribution of species\""
         ]
      },
      {
         "cell_type": "code",
         "execution_count": null,
         "metadata": {},
         "outputs": [],
         "source": [
            "iris_outcome = pd.crosstab(index=iris[\"species\"],  # Make a crosstab\n",
            "                              columns=\"count\")      # Name the count column"
         ]
      },
      {
         "cell_type": "code",
         "execution_count": null,
         "metadata": {},
         "outputs": [],
         "source": [
            "iris_outcome"
         ]
      },
      {
         "cell_type": "code",
         "execution_count": null,
         "metadata": {},
         "outputs": [],
         "source": [
            "iris_setosa=iris.loc[iris[\"species\"]==\"Iris-setosa\"]\n",
            "iris_virginica=iris.loc[iris[\"species\"]==\"Iris-virginica\"]\n",
            "iris_versicolor=iris.loc[iris[\"species\"]==\"Iris-versicolor\"]"
         ]
      },
      {
         "cell_type": "code",
         "execution_count": null,
         "metadata": {},
         "outputs": [],
         "source": [
            "sns.FacetGrid(iris,hue=\"species\",size=3).map(sns.distplot,\"petal_length\").add_legend()\n",
            "sns.FacetGrid(iris,hue=\"species\",size=3).map(sns.distplot,\"petal_width\").add_legend()\n",
            "sns.FacetGrid(iris,hue=\"species\",size=3).map(sns.distplot,\"sepal_length\").add_legend()\n",
            "plt.show()"
         ]
      },
      {
         "cell_type": "code",
         "execution_count": null,
         "metadata": {},
         "outputs": [],
         "source": [
            "sns.boxplot(x=\"species\",y=\"petal_length\",data=iris)\n",
            "plt.show()"
         ]
      },
      {
         "cell_type": "code",
         "execution_count": null,
         "metadata": {},
         "outputs": [],
         "source": [
            "sns.violinplot(x=\"species\",y=\"petal_length\",data=iris)\n",
            "plt.show()"
         ]
      },
      {
         "cell_type": "code",
         "execution_count": null,
         "metadata": {},
         "outputs": [],
         "source": [
            "sns.set_style(\"whitegrid\")\n",
            "sns.pairplot(iris,hue=\"species\",size=3);\n",
            "plt.show()"
         ]
      },
      {
         "cell_type": "markdown",
         "metadata": {},
         "source": [
            "inding the optimum number of clusters for k-means classification"
         ]
      },
      {
         "cell_type": "code",
         "execution_count": null,
         "metadata": {},
         "outputs": [],
         "source": [
            "from sklearn.cluster import KMeans\n",
            "wcss = []"
         ]
      },
      {
         "cell_type": "code",
         "execution_count": null,
         "metadata": {},
         "outputs": [],
         "source": [
            "for i in range(1, 11):\n",
            "    kmeans = KMeans(n_clusters = i, init = 'k-means++', max_iter = 300, n_init = 10, random_state = 0)\n",
            "    kmeans.fit(x)\n",
            "    wcss.append(kmeans.inertia_)\n",
            "    \n",
            "plt.plot(range(1, 11), wcss)\n",
            "plt.title('The elbow method')\n",
            "plt.xlabel('Number of clusters')\n",
            "plt.ylabel('WCSS') #within cluster sum of squares\n",
            "plt.show()"
         ]
      },
      {
         "cell_type": "code",
         "execution_count": null,
         "metadata": {},
         "outputs": [],
         "source": [
            "kmeans = KMeans(n_clusters = 3, init = 'k-means++', max_iter = 300, n_init = 10, random_state = 0)\n",
            "y_kmeans = kmeans.fit_predict(x)"
         ]
      },
      {
         "cell_type": "markdown",
         "metadata": {},
         "source": [
            "isualising the clusters"
         ]
      },
      {
         "cell_type": "code",
         "execution_count": null,
         "metadata": {},
         "outputs": [],
         "source": [
            "plt.scatter(x[y_kmeans == 0, 0], x[y_kmeans == 0, 1], s = 100, c = 'purple', label = 'Iris-setosa')\n",
            "plt.scatter(x[y_kmeans == 1, 0], x[y_kmeans == 1, 1], s = 100, c = 'orange', label = 'Iris-versicolour')\n",
            "plt.scatter(x[y_kmeans == 2, 0], x[y_kmeans == 2, 1], s = 100, c = 'green', label = 'Iris-virginica')"
         ]
      },
      {
         "cell_type": "markdown",
         "metadata": {},
         "source": [
            "lotting the centroids of the clusters"
         ]
      },
      {
         "cell_type": "code",
         "execution_count": null,
         "metadata": {},
         "outputs": [],
         "source": [
            "plt.scatter(kmeans.cluster_centers_[:, 0], kmeans.cluster_centers_[:,1], s = 100, c = 'red', label = 'Centroids')"
         ]
      },
      {
         "cell_type": "code",
         "execution_count": null,
         "metadata": {},
         "outputs": [],
         "source": [
            "plt.legend()"
         ]
      },
      {
         "cell_type": "markdown",
         "metadata": {},
         "source": [
            "3d scatterplot using matplotlib"
         ]
      },
      {
         "cell_type": "code",
         "execution_count": null,
         "metadata": {},
         "outputs": [],
         "source": [
            "fig = plt.figure(figsize = (15,15))\n",
            "ax = fig.add_subplot(111, projection='3d')\n",
            "plt.scatter(x[y_kmeans == 0, 0], x[y_kmeans == 0, 1], s = 100, c = 'purple', label = 'Iris-setosa')\n",
            "plt.scatter(x[y_kmeans == 1, 0], x[y_kmeans == 1, 1], s = 100, c = 'orange', label = 'Iris-versicolour')\n",
            "plt.scatter(x[y_kmeans == 2, 0], x[y_kmeans == 2, 1], s = 100, c = 'green', label = 'Iris-virginica')"
         ]
      },
      {
         "cell_type": "markdown",
         "metadata": {},
         "source": [
            "lotting the centroids of the clusters"
         ]
      },
      {
         "cell_type": "code",
         "execution_count": null,
         "metadata": {},
         "outputs": [],
         "source": [
            "plt.scatter(kmeans.cluster_centers_[:, 0], kmeans.cluster_centers_[:,1], s = 100, c = 'red', label = 'Centroids')\n",
            "plt.show()"
         ]
      }
   ],
   "metadata": {
      "kernelspec": {
         "display_name": "Python 3",
         "language": "python",
         "name": "python3"
      },
      "language_info": {
         "codemirror_mode": {
            "name": "ipython",
            "version": 3
         },
         "file_extension": ".py",
         "mimetype": "text/x-python",
         "name": "python",
         "nbconvert_exporter": "python",
         "pygments_lexer": "ipython3",
         "version": "3.6.4"
      }
   },
   "nbformat": 4,
   "nbformat_minor": 2
}
