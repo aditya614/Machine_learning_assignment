
{
   "cells": [
      {
         "cell_type": "code",
         "execution_count": null,
         "metadata": {},
         "outputs": [],
         "source": [
            "import time\n",
            "import math\n",
            "import torch\n",
            "import numpy as np\n",
            "import pandas as pd\n",
            "import matplotlib.pyplot as plt\n",
            "import seaborn as sns"
         ]
      },
      {
         "cell_type": "code",
         "execution_count": null,
         "metadata": {},
         "outputs": [],
         "source": [
            "import warnings\n",
            "warnings.filterwarnings('ignore')"
         ]
      },
      {
         "cell_type": "code",
         "execution_count": null,
         "metadata": {},
         "outputs": [],
         "source": [
            "df = pd.read_csv('/Users/chinmayanand/downloads/Medical Price Dataset.csv')\n",
            "print(df.head())\n",
            "print(df.info())\n",
            "print(df.isnull().sum())"
         ]
      },
      {
         "cell_type": "markdown",
         "metadata": {},
         "source": [
            "Looking for how many unique values there are in the categorical features"
         ]
      },
      {
         "cell_type": "code",
         "execution_count": null,
         "metadata": {},
         "outputs": [],
         "source": [
            "print('Different regions - ', df['region'].unique())\n",
            "print('Different numbers of children - ', df['children'].unique())"
         ]
      },
      {
         "cell_type": "markdown",
         "metadata": {},
         "source": [
            "Adding a log charges as well as charges to train a model to later"
         ]
      },
      {
         "cell_type": "code",
         "execution_count": null,
         "metadata": {},
         "outputs": [],
         "source": [
            "df['log_charges'] = np.log(df['charges'])"
         ]
      },
      {
         "cell_type": "markdown",
         "metadata": {},
         "source": [
            "PLotting the distribution of charges and log charges to check for normal distribution"
         ]
      },
      {
         "cell_type": "code",
         "execution_count": null,
         "metadata": {},
         "outputs": [],
         "source": [
            "fig, ax = plt.subplots(nrows=2)\n",
            "sns.distplot(df['charges'], ax=ax[0], hist=False).set_title('charges')\n",
            "sns.distplot(df['log_charges'], ax=ax[1], hist=False).set_title('log charges')\n",
            "plt.subplots_adjust(hspace=0.7)\n",
            "plt.show()"
         ]
      },
      {
         "cell_type": "code",
         "execution_count": null,
         "metadata": {},
         "outputs": [],
         "source": [
            "print('bmi correlation - ', df['charges'].corr(df['bmi']))\n",
            "print('age correlation - ', df['charges'].corr(df['age']))"
         ]
      },
      {
         "cell_type": "markdown",
         "metadata": {},
         "source": [
            "Adjusting the font size of the figures to match the overall figure size"
         ]
      },
      {
         "cell_type": "code",
         "execution_count": null,
         "metadata": {},
         "outputs": [],
         "source": [
            "sns.set(font_scale = 0.5)"
         ]
      },
      {
         "cell_type": "markdown",
         "metadata": {},
         "source": [
            "Plotting box and whiskers to show the distribution of charges according to these features"
         ]
      },
      {
         "cell_type": "code",
         "execution_count": null,
         "metadata": {},
         "outputs": [],
         "source": [
            "fig = plt.figure(dpi=220)\n",
            "plt.rcParams[\"axes.labelsize\"] = 8\n",
            "fig.subplots_adjust(hspace=0.4, wspace=0.4)\n",
            "ax = fig.add_subplot(2, 2, 1)\n",
            "sns.boxplot(data=df, x='smoker', y='charges', ax=ax)\n",
            "ax = fig.add_subplot(2, 2, 2)\n",
            "sns.boxplot(data=df, x='region', y='charges', ax=ax)\n",
            "ax = fig.add_subplot(2, 2, 3)\n",
            "sns.boxplot(data=df, x='sex', y='charges', ax=ax)\n",
            "ax = fig.add_subplot(2, 2, 4)\n",
            "sns.boxplot(data=df, x='children', y='charges', ax=ax)\n",
            "plt.show()\n",
            "sns.set(font_scale = 1)"
         ]
      },
      {
         "cell_type": "markdown",
         "metadata": {},
         "source": [
            "How many are in each category of children"
         ]
      },
      {
         "cell_type": "code",
         "execution_count": null,
         "metadata": {},
         "outputs": [],
         "source": [
            "print(df['children'].value_counts())"
         ]
      },
      {
         "cell_type": "markdown",
         "metadata": {},
         "source": [
            "Scatter plots to show the correlation between features and charges"
         ]
      },
      {
         "cell_type": "code",
         "execution_count": null,
         "metadata": {},
         "outputs": [],
         "source": [
            "sns.lmplot(data=df, x='age', y='charges', hue='smoker')\n",
            "plt.show()\n",
            "sns.lmplot(data=df, x='bmi', y='charges', hue='smoker')\n",
            "plt.show()"
         ]
      },
      {
         "cell_type": "code",
         "execution_count": null,
         "metadata": {},
         "outputs": [],
         "source": [
            "fig, ax = plt.subplots(nrows=2, dpi=110)\n",
            "fig.tight_layout(pad=3.0)"
         ]
      },
      {
         "cell_type": "markdown",
         "metadata": {},
         "source": [
            "Plotting for smokers with bmi over 30"
         ]
      },
      {
         "cell_type": "code",
         "execution_count": null,
         "metadata": {},
         "outputs": [],
         "source": [
            "sns.distplot(df[(df['smoker'] == 'yes') & (df['bmi'] > 30)][\"charges\"], ax=ax[0], hist=False,\n",
            "             label='bmi > 30').set_title('smokers')\n",
            "             \n",
            "# Plotting for smokers with bmi under 30\n",
            "sns.distplot(df[(df['smoker'] == 'yes') & (df['bmi'] < 30)][\"charges\"], ax=ax[0], hist=False, label='bmi < 30')"
         ]
      },
      {
         "cell_type": "markdown",
         "metadata": {},
         "source": [
            "Plotting for non smokers"
         ]
      },
      {
         "cell_type": "code",
         "execution_count": null,
         "metadata": {},
         "outputs": [],
         "source": [
            "sns.distplot(df[(df['smoker'] == 'no')][\"charges\"], ax=ax[1], hist=False).set_title('non-smokers')\n",
            "ax[0].legend()\n",
            "plt.show()"
         ]
      },
      {
         "cell_type": "markdown",
         "metadata": {},
         "source": [
            "Creates a new categorical feature for bmi (30 is the cuttoff point for obese)"
         ]
      },
      {
         "cell_type": "code",
         "execution_count": null,
         "metadata": {},
         "outputs": [],
         "source": [
            "df['bmi_cat'] = np.nan\n",
            "df.loc[df['bmi'] <= 30, 'bmi_cat'] = 0\n",
            "df.loc[df['bmi'] > 30, 'bmi_cat'] = 1"
         ]
      },
      {
         "cell_type": "code",
         "execution_count": null,
         "metadata": {},
         "outputs": [],
         "source": [
            "sns.lmplot(data=df[df['smoker'] == 'yes'], x='bmi', y='charges', hue='bmi_cat')\n",
            "plt.show()\n",
            "sns.lmplot(data=df[df['smoker'] == 'no'], x='bmi', y='charges', hue='bmi_cat')\n",
            "plt.show()"
         ]
      },
      {
         "cell_type": "code",
         "execution_count": null,
         "metadata": {},
         "outputs": [],
         "source": [
            "sns.lmplot(data=df[df['smoker'] == 'no'], x='age', y='charges', hue='sex', fit_reg=False)\n",
            "plt.show()\n",
            "sns.lmplot(data=df[df['smoker'] == 'no'], x='age', y='charges', hue='region', fit_reg=False)\n",
            "plt.show()\n",
            "sns.lmplot(data=df[df['smoker'] == 'no'], x='age', y='charges', hue='children', fit_reg=False)\n",
            "plt.show()"
         ]
      },
      {
         "cell_type": "markdown",
         "metadata": {},
         "source": [
            "Showing the correlation for various subgroups within the data"
         ]
      },
      {
         "cell_type": "code",
         "execution_count": null,
         "metadata": {},
         "outputs": [],
         "source": [
            "print('bmi correlation (smokers) - ', df[df['smoker'] == 'yes']['charges'].corr(df['bmi']), '\\n')\n",
            "print('bmi correlation (smokers & bmi > 30) - ', \n",
            "      df[(df['smoker'] == 'yes') & (df['bmi'] > 30)][\"charges\"].corr(df['bmi']))\n",
            "print('bmi correlation (smokers & bmi < 30) - ', \n",
            "      df[(df['smoker'] == 'yes') & (df['bmi'] > 30)]['charges'].corr(df['bmi']), '\\n')\n",
            "print('bmi correlation (non-smokers) - ', df[(df['smoker'] == 'no')]['charges'].corr(df['bmi']))\n",
            "print('age correlation (smokers) - ', df[df['smoker'] == 'yes']['charges'].corr(df['age']))\n",
            "print('age correlation (non-smokers) - ', df[(df['smoker'] == 'no')]['charges'].corr(df['age']))"
         ]
      },
      {
         "cell_type": "markdown",
         "metadata": {},
         "source": [
            "Replacing yes/no with 1/0 to aid in modelling"
         ]
      },
      {
         "cell_type": "code",
         "execution_count": null,
         "metadata": {},
         "outputs": [],
         "source": [
            "df['smoker'].replace(('yes', 'no'), (1, 0), inplace=True)\n",
            "df['sex'].replace(('male', 'female'), (1, 0), inplace=True)"
         ]
      },
      {
         "cell_type": "markdown",
         "metadata": {},
         "source": [
            "Converts categorical data with more than two categories into a set of new features<br>\n",
            "one for each different value in the old feature and only 1/0 as possible values"
         ]
      },
      {
         "cell_type": "code",
         "execution_count": null,
         "metadata": {},
         "outputs": [],
         "source": [
            "dummies = pd.get_dummies(df['region'])\n",
            "df = pd.concat((df, dummies), axis = 1)\n",
            "df = df.drop('region', axis = 1)"
         ]
      },
      {
         "cell_type": "markdown",
         "metadata": {},
         "source": [
            "Creating a Pearson correlation matrix to visualise correlations between features"
         ]
      },
      {
         "cell_type": "code",
         "execution_count": null,
         "metadata": {},
         "outputs": [],
         "source": [
            "df_corr = df.drop(['log_charges', 'bmi_cat'], axis = 1)\n",
            "corr = df_corr.corr()\n",
            "fig, ax = plt.subplots(dpi=200)\n",
            "sns.heatmap(corr, cmap = 'Wistia', annot= True, ax=ax, annot_kws={\"size\": 6})\n",
            "plt.show()"
         ]
      },
      {
         "cell_type": "markdown",
         "metadata": {},
         "source": [
            "A new df where we split up the number of children into new features to check for correlations"
         ]
      },
      {
         "cell_type": "code",
         "execution_count": null,
         "metadata": {},
         "outputs": [],
         "source": [
            "df_children = df[['charges', 'children']]"
         ]
      },
      {
         "cell_type": "code",
         "execution_count": null,
         "metadata": {},
         "outputs": [],
         "source": [
            "dummies_children = pd.get_dummies(df_children['children'])\n",
            "df_children = pd.concat((df_children, dummies_children), axis = 1)\n",
            "df_children = df_children.drop('children', axis = 1)"
         ]
      },
      {
         "cell_type": "code",
         "execution_count": null,
         "metadata": {},
         "outputs": [],
         "source": [
            "print('0 children - ', df_children['charges'].corr(df_children[0]))\n",
            "print('1 children - ', df_children['charges'].corr(df_children[1]))\n",
            "print('2 children - ', df_children['charges'].corr(df_children[2]))\n",
            "print('3 children - ', df_children['charges'].corr(df_children[3]))\n",
            "print('4 children - ', df_children['charges'].corr(df_children[4]))\n",
            "print('5 children - ', df_children['charges'].corr(df_children[5]))"
         ]
      },
      {
         "cell_type": "code",
         "execution_count": null,
         "metadata": {},
         "outputs": [],
         "source": [
            "def linear_func(X, th0, th1):\n",
            "    return (X * th1) + th0"
         ]
      },
      {
         "cell_type": "code",
         "execution_count": null,
         "metadata": {},
         "outputs": [],
         "source": [
            "def cost_func(X, y, th0, th1):\n",
            "    mm = len(X)\n",
            "    return (1/2*mm) * np.sum((linear_func(X, th0, th1) - y)**2)"
         ]
      },
      {
         "cell_type": "markdown",
         "metadata": {},
         "source": [
            "The partial derivative of the cost function with respect to theta 0"
         ]
      },
      {
         "cell_type": "code",
         "execution_count": null,
         "metadata": {},
         "outputs": [],
         "source": [
            "def grad_descent_th0(X, y, alpha, th0, th1):\n",
            "    mm = len(X)\n",
            "    return (alpha / mm) * np.sum(linear_func(X, th0, th1) - y)"
         ]
      },
      {
         "cell_type": "markdown",
         "metadata": {},
         "source": [
            "The partial derivative of the cost function with respect to theta 1"
         ]
      },
      {
         "cell_type": "code",
         "execution_count": null,
         "metadata": {},
         "outputs": [],
         "source": [
            "def grad_descent_th1(X, y, alpha, th0, th1):\n",
            "    mm = len(X)\n",
            "    return (alpha / mm) * np.sum((linear_func(X, th0, th1) - y)*X)\n",
            "    \n",
            "    # Creating simple dummy values to fit a linear model to\n",
            "X = np.array([1,2,3,4])\n",
            "y = np.array([2,4,6,8])"
         ]
      },
      {
         "cell_type": "code",
         "execution_count": null,
         "metadata": {},
         "outputs": [],
         "source": [
            "plt.scatter(X, y)\n",
            "plt.show()"
         ]
      },
      {
         "cell_type": "markdown",
         "metadata": {},
         "source": [
            "these are our inital guesses for the values of theta0 and theta1 (they do not have to be good guesses)"
         ]
      },
      {
         "cell_type": "code",
         "execution_count": null,
         "metadata": {},
         "outputs": [],
         "source": [
            "th0 = -15\n",
            "th1 = 16\n",
            "# The optimization parameter controls how quickly we descend the gradient\n",
            "alpha = 0.1\n",
            "loops = 1000"
         ]
      },
      {
         "cell_type": "code",
         "execution_count": null,
         "metadata": {},
         "outputs": [],
         "source": [
            "for ii in range(loops):\n",
            "    # We must store the values in temporary holders so we can use the same values for both gradiant descent parts\n",
            "    temp_th0 = th0 - grad_descent_th0(X, y, alpha, th0, th1)\n",
            "    temp_th1 = th1 - grad_descent_th1(X, y, alpha, th0, th1)\n",
            "    th0 = temp_th0\n",
            "    th1 = temp_th1\n",
            "    \n",
            "print('theta0 - ', th0)\n",
            "print('theta1 - ', th1)\n",
            "print('final cost - ', cost_func(X, y, th0, th1))"
         ]
      },
      {
         "cell_type": "markdown",
         "metadata": {},
         "source": [
            "Plotting the old data plus our predictions"
         ]
      },
      {
         "cell_type": "code",
         "execution_count": null,
         "metadata": {},
         "outputs": [],
         "source": [
            "plt.plot(X, linear_func(X, th0, th1), label='calculated')\n",
            "plt.scatter(X, y, label='original data')\n",
            "plt.legend()\n",
            "plt.show()"
         ]
      },
      {
         "cell_type": "code",
         "execution_count": null,
         "metadata": {},
         "outputs": [],
         "source": [
            "X = df[df['smoker'] == 0]['age'].values\n",
            "y = df[df['smoker'] == 0]['charges'].values\n",
            "print(df.head())\n",
            "print(X[:5])\n",
            "print(y[:5])"
         ]
      },
      {
         "cell_type": "markdown",
         "metadata": {},
         "source": [
            "Our chosen data set"
         ]
      },
      {
         "cell_type": "code",
         "execution_count": null,
         "metadata": {},
         "outputs": [],
         "source": [
            "plt.scatter(X, y)\n",
            "plt.show()"
         ]
      },
      {
         "cell_type": "code",
         "execution_count": null,
         "metadata": {},
         "outputs": [],
         "source": [
            "th0 = -15\n",
            "th1 = 16\n",
            "alpha = 0.001\n",
            "loops = 100000\n",
            "print('initial cost - ', cost_func(X, y, th0, th1))"
         ]
      },
      {
         "cell_type": "code",
         "execution_count": null,
         "metadata": {},
         "outputs": [],
         "source": [
            "for ii in range(loops):\n",
            "    temp_th0 = th0 - grad_descent_th0(X, y, alpha, th0, th1)\n",
            "    temp_th1 = th1 - grad_descent_th1(X, y, alpha, th0, th1)\n",
            "    th0 = temp_th0\n",
            "    th1 = temp_th1\n",
            "    \n",
            "print('theta0 - ', th0)\n",
            "print('theta1 - ', th1)\n",
            "print('final cost - ', cost_func(X, y, th0, th1))"
         ]
      },
      {
         "cell_type": "code",
         "execution_count": null,
         "metadata": {},
         "outputs": [],
         "source": [
            "plt.plot(X, linear_func(X, th0, th1), label='calculated', c='r', linewidth=4)\n",
            "plt.scatter(X, y, label='original data', c='b')\n",
            "plt.legend()\n",
            "plt.show()"
         ]
      },
      {
         "cell_type": "markdown",
         "metadata": {},
         "source": [
            "The number of features and instances for our dummy data"
         ]
      },
      {
         "cell_type": "code",
         "execution_count": null,
         "metadata": {},
         "outputs": [],
         "source": [
            "instances = 50\n",
            "features = 3"
         ]
      },
      {
         "cell_type": "markdown",
         "metadata": {},
         "source": [
            "Creating random values for our target weights"
         ]
      },
      {
         "cell_type": "code",
         "execution_count": null,
         "metadata": {},
         "outputs": [],
         "source": [
            "thetai = np.random.randint(1, 9, features+1)\n",
            "print(thetai)"
         ]
      },
      {
         "cell_type": "markdown",
         "metadata": {},
         "source": [
            "Creating the input data randomly"
         ]
      },
      {
         "cell_type": "code",
         "execution_count": null,
         "metadata": {},
         "outputs": [],
         "source": [
            "df_inputs = pd.DataFrame()\n",
            "# The bias 'feature' should all be ones so we add the same bias for each instance\n",
            "df_inputs['bias'] = [1] * instances\n",
            "for ii in range(features):\n",
            "    df_inputs['feat_'+str(ii)] = np.random.randint(1,9,instances)"
         ]
      },
      {
         "cell_type": "markdown",
         "metadata": {},
         "source": [
            "creating an empty data series for our taget values"
         ]
      },
      {
         "cell_type": "code",
         "execution_count": null,
         "metadata": {},
         "outputs": [],
         "source": [
            "df_targets = pd.DataFrame()\n",
            "df_targets['target'] = [0] * instances"
         ]
      },
      {
         "cell_type": "markdown",
         "metadata": {},
         "source": [
            "Creating the targets from the random weights and feature values so we have a good fit to aim for"
         ]
      },
      {
         "cell_type": "code",
         "execution_count": null,
         "metadata": {},
         "outputs": [],
         "source": [
            "feat_bias = df_inputs.columns.tolist()\n",
            "for ii, col in enumerate(feat_bias):\n",
            "    df_targets['target'] += (df_inputs[col] * thetai[ii])"
         ]
      },
      {
         "cell_type": "markdown",
         "metadata": {},
         "source": [
            "requires .float() to match the weight tensor created below"
         ]
      },
      {
         "cell_type": "code",
         "execution_count": null,
         "metadata": {},
         "outputs": [],
         "source": [
            "targets = torch.tensor(df_targets.values).float()\n",
            "inputs = torch.tensor(df_inputs.values).float()"
         ]
      },
      {
         "cell_type": "code",
         "execution_count": null,
         "metadata": {},
         "outputs": [],
         "source": [
            "print(df_inputs.head())\n",
            "print(df_targets.head())"
         ]
      },
      {
         "cell_type": "code",
         "execution_count": null,
         "metadata": {},
         "outputs": [],
         "source": [
            "def linear_func_mv(x, weights):\n",
            "    return  x @ weights.t()"
         ]
      },
      {
         "cell_type": "code",
         "execution_count": null,
         "metadata": {},
         "outputs": [],
         "source": [
            "def cost_func_mv(X, y, weights):\n",
            "    mm = len(X)\n",
            "    return (1/2*mm) * torch.sum((linear_func_mv(X, weights) - y)**2)\n",
            "    \n",
            "    def mv_linear_regression_alg(inputs, targets, loops, alpha):\n",
            "\n",
            "    # require_grad = True in order to backwards compute derivatives of the weights\n",
            "    # number of weight coefficients equal to the number of features\n",
            "    w = torch.randn(1, inputs.shape[1], requires_grad=True)\n",
            "    print('initial cost - ', cost_func_mv(inputs, targets, w))\n",
            "    print('Improving parameters...')\n",
            "    cost_tracker = []\n",
            "    t_mv1 = time.time()\n",
            "    for i in range(loops):\n",
            "        # Calculate the cost each time to analyse the current paramters\n",
            "        cost = cost_func_mv(inputs, targets, w)\n",
            "        # Adds the cost to a list to we ca see it change over time\n",
            "        cost_tracker.append(cost_func_mv(inputs, targets, w).detach().numpy())\n",
            "        # Calculating the partial derivatives\n",
            "        cost.backward()\n",
            "        # stop autograd from tracking history on Tensor\n",
            "        with torch.no_grad():\n",
            "            w -= w.grad * alpha\n",
            "            # Resetting calculated derivatives to 0\n",
            "            w.grad.zero_()\n",
            "    t_mv2 = time.time()\n",
            "    print(f'...time taken is {t_mv2 - t_mv1} s to complete {loops} loops')\n",
            "    print('final cost - ', cost_func_mv(inputs, targets, w))\n",
            "    return w, cost_tracker"
         ]
      },
      {
         "cell_type": "code",
         "execution_count": null,
         "metadata": {},
         "outputs": [],
         "source": [
            "alpha_mv = 1e-5\n",
            "loops_mv = 3000\n",
            "w, costs = mv_linear_regression_alg(inputs, targets, loops_mv, alpha_mv)"
         ]
      },
      {
         "cell_type": "code",
         "execution_count": null,
         "metadata": {},
         "outputs": [],
         "source": [
            "plt.plot(costs)\n",
            "plt.title('The cost converging to its minimum')\n",
            "plt.xlabel('Iteration number')\n",
            "plt.ylabel('Cost')\n",
            "plt.show()"
         ]
      },
      {
         "cell_type": "code",
         "execution_count": null,
         "metadata": {},
         "outputs": [],
         "source": [
            "print('\\nRESULTS\\n')\n",
            "# Getting our calculated values for target from our calculated parameters\n",
            "df_targets['results'] = linear_func_mv(inputs, w).t().detach().numpy()[0]\n",
            "print('Pearson R - ', df_targets['target'].corr(df_targets['results']))\n",
            "print('weights - ', thetai)\n",
            "print('calculated weights - ', w)"
         ]
      },
      {
         "cell_type": "code",
         "execution_count": null,
         "metadata": {},
         "outputs": [],
         "source": [
            "plt.scatter(df_targets['target'].values, df_targets['results'].values)\n",
            "plt.title('Correlation between calculated and target values')\n",
            "plt.xlabel('Target values')\n",
            "plt.ylabel('Calculated values')\n",
            "plt.show()"
         ]
      },
      {
         "cell_type": "code",
         "execution_count": null,
         "metadata": {},
         "outputs": [],
         "source": [
            "df = pd.read_csv('/Users/chinmayanand/downloads/Medical Price Dataset.csv')"
         ]
      },
      {
         "cell_type": "code",
         "execution_count": null,
         "metadata": {},
         "outputs": [],
         "source": [
            "instances_tot = df.shape[0]"
         ]
      },
      {
         "cell_type": "markdown",
         "metadata": {},
         "source": [
            "Splitting our dataset into a test and train to test our model and avoid over parameterisation"
         ]
      },
      {
         "cell_type": "code",
         "execution_count": null,
         "metadata": {},
         "outputs": [],
         "source": [
            "df_train = df[:int((instances_tot * 4)/5)]\n",
            "df_test = df[int((instances_tot * 4)/5):]"
         ]
      },
      {
         "cell_type": "markdown",
         "metadata": {},
         "source": [
            "Inputting the features we want for our model"
         ]
      },
      {
         "cell_type": "code",
         "execution_count": null,
         "metadata": {},
         "outputs": [],
         "source": [
            "df_edit = pd.DataFrame()\n",
            "bias = [1] * int((instances_tot * 4)/5)\n",
            "df_edit['bias'] = bias\n",
            "df_edit['smoker'] = df_train['smoker']\n",
            "df_edit['bmi'] = df_train['bmi']\n",
            "df_edit['age'] = df_train['age']\n",
            "df_edit['age^2'] = df_train['age'] ** 2\n",
            "df_edit['log_charges'] = np.log(df_train['charges'])"
         ]
      },
      {
         "cell_type": "code",
         "execution_count": null,
         "metadata": {},
         "outputs": [],
         "source": [
            "df_edit['bmi_cat'] = np.nan\n",
            "df_edit.loc[df_edit['bmi'] <= 30, 'bmi_cat'] = 0\n",
            "df_edit.loc[df_edit['bmi'] > 30, 'bmi_cat'] = 1"
         ]
      },
      {
         "cell_type": "code",
         "execution_count": null,
         "metadata": {},
         "outputs": [],
         "source": [
            "df_edit['smoker'].replace(('yes', 'no'), (1, 0), inplace=True)\n",
            "df_edit['age'] = df_edit['age'] / (df_edit['age'].max() - df_edit['age'].min())\n",
            "df_edit['age^2'] = df_edit['age^2'] / (df_edit['age^2'].max() - df_edit['age^2'].min())\n",
            "df_edit['bmi'] = df_edit['bmi'] / (df_edit['bmi'].max() - df_edit['bmi'].min())"
         ]
      },
      {
         "cell_type": "markdown",
         "metadata": {},
         "source": [
            "splitting the features and the target ot create our inputs"
         ]
      },
      {
         "cell_type": "code",
         "execution_count": null,
         "metadata": {},
         "outputs": [],
         "source": [
            "df_inputs = df_edit.drop('log_charges', axis=1)\n",
            "df_targets = pd.DataFrame()\n",
            "df_targets['targets'] = df_edit['log_charges']"
         ]
      },
      {
         "cell_type": "code",
         "execution_count": null,
         "metadata": {},
         "outputs": [],
         "source": [
            "print(df_inputs.head())\n",
            "print(df_targets.head())"
         ]
      },
      {
         "cell_type": "markdown",
         "metadata": {},
         "source": [
            "Our inputs must be torch tensors"
         ]
      },
      {
         "cell_type": "code",
         "execution_count": null,
         "metadata": {},
         "outputs": [],
         "source": [
            "inputs = torch.tensor(df_inputs.values).float()\n",
            "targets = torch.tensor(df_targets.values).float()\n",
            "loops = 10000\n",
            "alpha = 3e-7\n",
            "# Calculating our parameters\n",
            "w, costs = mv_linear_regression_alg(inputs, targets, loops, alpha)"
         ]
      },
      {
         "cell_type": "code",
         "execution_count": null,
         "metadata": {},
         "outputs": [],
         "source": [
            "print('\\nRESULTS\\n')\n",
            "plt.plot(costs)\n",
            "plt.title('The cost converging to its minimum')\n",
            "plt.xlabel('Iteration number')\n",
            "plt.ylabel('Cost')\n",
            "plt.ylim(0, 5e5)\n",
            "plt.show()\n",
            "print(df_inputs.columns.tolist())\n",
            "print(w)\n",
            "# Calculating our values for the target from our calculated parameters\n",
            "df_targets['results'] = linear_func_mv(inputs, w).detach().numpy()\n",
            "print(df_targets.head())\n",
            "print(df_targets['targets'].corr(df_targets['results']))"
         ]
      },
      {
         "cell_type": "code",
         "execution_count": null,
         "metadata": {},
         "outputs": [],
         "source": [
            "plt.scatter(df_targets['targets'].values, df_targets['results'].values)\n",
            "plt.title('Correlation between calculated and target values')\n",
            "plt.xlabel('Target values')\n",
            "plt.ylabel('Calculated values')\n",
            "plt.show()"
         ]
      },
      {
         "cell_type": "markdown",
         "metadata": {},
         "source": [
            "Creating our smokers group and forming inputs and targets"
         ]
      },
      {
         "cell_type": "code",
         "execution_count": null,
         "metadata": {},
         "outputs": [],
         "source": [
            "df_smokers_i = df_edit[df_edit['smoker'] == 1]\n",
            "df_smokers_t = pd.DataFrame()\n",
            "df_smokers_t['targets'] = df_smokers_i['log_charges']\n",
            "df_smokers_i = df_smokers_i.drop(['log_charges', 'smoker'], axis=1)"
         ]
      },
      {
         "cell_type": "code",
         "execution_count": null,
         "metadata": {},
         "outputs": [],
         "source": [
            "print('\\nSmokers gradient descent\\n')\n",
            "inputs_s = torch.tensor(df_smokers_i.values).float()\n",
            "targets_s = torch.tensor(df_smokers_t.values).float()\n",
            "loops = 10000\n",
            "alpha = 3e-7\n",
            "w_s, costs_s = mv_linear_regression_alg(inputs_s, targets_s, loops, alpha)"
         ]
      },
      {
         "cell_type": "code",
         "execution_count": null,
         "metadata": {},
         "outputs": [],
         "source": [
            "plt.plot(costs_s)\n",
            "plt.title('The cost converging to its minimum')\n",
            "plt.xlabel('Iteration number')\n",
            "plt.ylabel('Cost')\n",
            "plt.ylim(0, 5e5)\n",
            "plt.show()"
         ]
      },
      {
         "cell_type": "markdown",
         "metadata": {},
         "source": [
            "Creating our non smokers group and forming inputs and targets"
         ]
      },
      {
         "cell_type": "code",
         "execution_count": null,
         "metadata": {},
         "outputs": [],
         "source": [
            "df_nonsmokers_i = df_edit[df_edit['smoker'] == 0]\n",
            "df_nonsmokers_t = pd.DataFrame()\n",
            "df_nonsmokers_t['targets'] = df_nonsmokers_i['log_charges']\n",
            "df_nonsmokers_i = df_nonsmokers_i.drop(['log_charges', 'smoker'], axis=1)"
         ]
      },
      {
         "cell_type": "code",
         "execution_count": null,
         "metadata": {},
         "outputs": [],
         "source": [
            "print('\\nNon-smokers gradient descent\\n')\n",
            "inputs_ns = torch.tensor(df_nonsmokers_i.values).float()\n",
            "targets_ns = torch.tensor(df_nonsmokers_t.values).float()\n",
            "loops = 10000\n",
            "alpha = 3e-7\n",
            "w_ns, costs_ns = mv_linear_regression_alg(inputs_ns, targets_ns, loops, alpha)"
         ]
      },
      {
         "cell_type": "code",
         "execution_count": null,
         "metadata": {},
         "outputs": [],
         "source": [
            "plt.plot(costs_ns)\n",
            "plt.title('The cost converging to its minimum')\n",
            "plt.xlabel('Iteration number')\n",
            "plt.ylabel('Cost')\n",
            "plt.ylim(0, 5e5)\n",
            "plt.show()"
         ]
      },
      {
         "cell_type": "code",
         "execution_count": null,
         "metadata": {},
         "outputs": [],
         "source": [
            "print('\\nSMOKER RESULTS\\n')\n",
            "# looking at the names of the features with the calculated parameters for them\n",
            "print(df_smokers_i.columns.tolist())\n",
            "print(w_s)\n",
            "df_smokers_t['results'] = linear_func_mv(inputs_s, w_s).detach().numpy()"
         ]
      },
      {
         "cell_type": "code",
         "execution_count": null,
         "metadata": {},
         "outputs": [],
         "source": [
            "print('\\nNON SMOKER RESULTS\\n')\n",
            "print(df_nonsmokers_i.columns.tolist())\n",
            "print(w_ns)\n",
            "df_nonsmokers_t['results'] = linear_func_mv(inputs_ns, w_ns).detach().numpy()"
         ]
      },
      {
         "cell_type": "markdown",
         "metadata": {},
         "source": [
            "Combining our final results for smokers and non smokers"
         ]
      },
      {
         "cell_type": "code",
         "execution_count": null,
         "metadata": {},
         "outputs": [],
         "source": [
            "df_final_i = pd.concat([df_nonsmokers_i, df_smokers_i])\n",
            "df_final_i = df_final_i.sort_index()\n",
            "df_final_t = pd.concat([df_nonsmokers_t, df_smokers_t])\n",
            "df_final_t = df_final_t.sort_index()\n",
            "print(df_final_t.head())\n",
            "print(df_final_t['targets'].corr(df_final_t['results']))"
         ]
      },
      {
         "cell_type": "code",
         "execution_count": null,
         "metadata": {},
         "outputs": [],
         "source": [
            "plt.scatter(df_final_t['targets'].values, df_final_t['results'].values)\n",
            "plt.title('Correlation between calculated and target values')\n",
            "plt.xlabel('Target values')\n",
            "plt.ylabel('Calculated values')\n",
            "plt.show()"
         ]
      },
      {
         "cell_type": "markdown",
         "metadata": {},
         "source": [
            "Separating the inputs and the target data in our test group"
         ]
      },
      {
         "cell_type": "code",
         "execution_count": null,
         "metadata": {},
         "outputs": [],
         "source": [
            "df_targets_test = pd.DataFrame()\n",
            "df_targets_test['targets'] = df_test['charges']"
         ]
      },
      {
         "cell_type": "code",
         "execution_count": null,
         "metadata": {},
         "outputs": [],
         "source": [
            "df_inputs_test = df_test.drop('charges', axis=1)"
         ]
      },
      {
         "cell_type": "code",
         "execution_count": null,
         "metadata": {},
         "outputs": [],
         "source": [
            "print(df_inputs_test.head())\n",
            "print(df_targets_test.head())"
         ]
      },
      {
         "cell_type": "code",
         "execution_count": null,
         "metadata": {},
         "outputs": [],
         "source": [
            "def predict_changes(dfin, dfout):\n",
            "    \n",
            "    # The old indexing creates problems when operating across different dataframes\n",
            "    dfin = dfin.reset_index(drop=True)\n",
            "    dfout = dfout.reset_index(drop=True)\n",
            "    \n",
            "    # We dont want the smoker feature in our inputs but we still need to to treat our two groups separately\n",
            "    dfout['smoker'] = dfin['smoker']\n",
            "    \n",
            "    # Creating our inputs in the same way as we did to train the model\n",
            "    dfin_edit = pd.DataFrame()\n",
            "    dfin_edit['bias'] = [1] * dfin.shape[0]\n",
            "    \n",
            "    dfin_edit['bmi'] = dfin['bmi']\n",
            "    dfin_edit['age'] = dfin['age']\n",
            "    dfin_edit['age^2'] = dfin['age'] ** 2\n",
            "    dfin_edit['bmi_cat'] = np.nan\n",
            "    dfin_edit.loc[dfin_edit['bmi'] <= 30, 'bmi_cat'] = 0\n",
            "    dfin_edit.loc[dfin_edit['bmi'] > 30, 'bmi_cat'] = 1\n",
            "    dfin_edit['age'] = dfin_edit['age'] / (dfin_edit['age'].max() - dfin_edit['age'].min())\n",
            "    dfin_edit['age^2'] = dfin_edit['age^2'] / (dfin_edit['age^2'].max() - dfin_edit['age^2'].min())\n",
            "    dfin_edit['bmi'] = dfin_edit['bmi'] / (dfin_edit['bmi'].max() - dfin_edit['bmi'].min())\n",
            "    \n",
            "    # Go through each row, check if they are smoker, and apply the correct parameters accordingly\n",
            "    dfout['results_log'] = np.nan\n",
            "    for index, row in dfin_edit.iterrows():\n",
            "        if dfout.loc[index, 'smoker'] == 'yes':\n",
            "            xx = torch.tensor(row.values).float()\n",
            "            dfout.loc[index, 'results_log'] = (xx @ w_s.t()).detach().numpy()[0]\n",
            "        if dfout.loc[index, 'smoker'] == 'no':\n",
            "            xx = torch.tensor(row.values).float()\n",
            "            dfout.loc[index, 'results_log'] = (xx @ w_ns.t()).detach().numpy()[0]\n",
            "\n",
            "    # Our model predicts log(charges). We want to see what the actual charges are\n",
            "    dfout['results'] = math.e ** dfout['results_log']\n",
            "    \n",
            "    print(dfout['targets'].corr(dfout['results']))\n",
            "    plt.scatter(dfout['targets'].values, dfout['results'].values)\n",
            "    plt.title('Correlation between calculated and target values')\n",
            "    plt.xlabel('Target values')\n",
            "    plt.ylabel('Calculated values')\n",
            "    plt.show()\n",
            "    \n",
            "    # returns the predicted charges as a list (not part of a dataframe)\n",
            "    return dfout['results'].values"
         ]
      },
      {
         "cell_type": "code",
         "execution_count": null,
         "metadata": {},
         "outputs": [],
         "source": [
            "df_test['predicted_charges'] = predict_changes(df_inputs_test, df_targets_test)"
         ]
      },
      {
         "cell_type": "code",
         "execution_count": null,
         "metadata": {},
         "outputs": [],
         "source": [
            "print(df_test.head())"
         ]
      }
   ],
   "metadata": {
      "kernelspec": {
         "display_name": "Python 3",
         "language": "python",
         "name": "python3"
      },
      "language_info": {
         "codemirror_mode": {
            "name": "ipython",
            "version": 3
         },
         "file_extension": ".py",
         "mimetype": "text/x-python",
         "name": "python",
         "nbconvert_exporter": "python",
         "pygments_lexer": "ipython3",
         "version": "3.6.4"
      }
   },
   "nbformat": 4,
   "nbformat_minor": 2
}
