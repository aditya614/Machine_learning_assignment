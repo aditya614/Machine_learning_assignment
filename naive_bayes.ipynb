 

 {
   "cells": [
      {
         "cell_type": "code",
         "execution_count": null,
         "metadata": {},
         "outputs": [],
         "source": [
            "import warnings\n",
            "import numpy as np\n",
            "import pandas as pd\n",
            "import seaborn as sns\n",
            "import matplotlib.pyplot as plt\n",
            "from scipy.stats.stats import pearsonr\n",
            "from sklearn.naive_bayes import GaussianNB\n",
            "from sklearn.model_selection import train_test_split\n",
            "from sklearn.metrics import accuracy_score, recall_score, precision_score"
         ]
      },
      {
         "cell_type": "markdown",
         "metadata": {},
         "source": [
            "matplotlib inline<br>\n",
            "Suppress warnings"
         ]
      },
      {
         "cell_type": "code",
         "execution_count": null,
         "metadata": {},
         "outputs": [],
         "source": [
            "warnings.filterwarnings(\"ignore\")"
         ]
      },
      {
         "cell_type": "code",
         "execution_count": null,
         "metadata": {},
         "outputs": [],
         "source": [
            "def cross_validate(estimator, train, validation):\n",
            "    X_train = train[0]\n",
            "    Y_train = train[1]\n",
            "    X_val = validation[0]\n",
            "    Y_val = validation[1]\n",
            "    train_predictions = classifier.predict(X_train)\n",
            "    train_accuracy = accuracy_score(train_predictions, Y_train)\n",
            "    train_recall = recall_score(train_predictions, Y_train)\n",
            "    train_precision = precision_score(train_predictions, Y_train)\n",
            "    val_predictions = classifier.predict(X_val)\n",
            "    val_accuracy = accuracy_score(val_predictions, Y_val)\n",
            "    val_recall = recall_score(val_predictions, Y_val)\n",
            "    val_precision = precision_score(val_predictions, Y_val)\n",
            "    print('Model metrics')\n",
            "    print('Accuracy  Train: %.2f, Validation: %.2f' % (train_accuracy, val_accuracy))\n",
            "    print('Recall    Train: %.2f, Validation: %.2f' % (train_recall, val_recall))\n",
            "    print('Precision Train: %.2f, Validation: %.2f' % (train_precision, val_precision))\n",
            "    \n",
            "train_raw = pd.read_csv('../input/train.csv')\n",
            "test_raw = pd.read_csv('../input/test.csv')\n",
            "test_ids = test_raw['PassengerId'].values"
         ]
      },
      {
         "cell_type": "markdown",
         "metadata": {},
         "source": [
            "Join data to analyse and process the set as one."
         ]
      },
      {
         "cell_type": "code",
         "execution_count": null,
         "metadata": {},
         "outputs": [],
         "source": [
            "train_raw['train'] = 1\n",
            "test_raw['train'] = 0\n",
            "data = train_raw.append(test_raw, sort=False)"
         ]
      },
      {
         "cell_type": "code",
         "execution_count": null,
         "metadata": {},
         "outputs": [],
         "source": [
            "features = ['Age', 'Embarked', 'Fare', 'Parch', 'Pclass', 'Sex', 'SibSp']\n",
            "target = 'Survived'"
         ]
      },
      {
         "cell_type": "code",
         "execution_count": null,
         "metadata": {},
         "outputs": [],
         "source": [
            "data = data[features + [target] + ['train']]\n",
            "# Categorical values need to be transformed into numeric.\n",
            "data['Sex'] = data['Sex'].replace([\"female\", \"male\"], [0, 1])\n",
            "data['Embarked'] = data['Embarked'].replace(['S', 'C', 'Q'], [1, 2, 3])\n",
            "data['Age'] = pd.qcut(data['Age'], 10, labels=False)"
         ]
      },
      {
         "cell_type": "markdown",
         "metadata": {},
         "source": [
            "Split data into train and test."
         ]
      },
      {
         "cell_type": "code",
         "execution_count": null,
         "metadata": {},
         "outputs": [],
         "source": [
            "train = data.query('train == 1')\n",
            "test = data.query('train == 0')"
         ]
      },
      {
         "cell_type": "markdown",
         "metadata": {},
         "source": [
            "Drop missing values from the train set."
         ]
      },
      {
         "cell_type": "code",
         "execution_count": null,
         "metadata": {},
         "outputs": [],
         "source": [
            "train.dropna(axis=0, inplace=True)\n",
            "labels = train[target].values"
         ]
      },
      {
         "cell_type": "code",
         "execution_count": null,
         "metadata": {},
         "outputs": [],
         "source": [
            "train.head()"
         ]
      },
      {
         "cell_type": "code",
         "execution_count": null,
         "metadata": {},
         "outputs": [],
         "source": [
            "columns = train[features + [target]].columns.tolist()\n",
            "nColumns = len(columns)\n",
            "result = pd.DataFrame(np.zeros((nColumns, nColumns)), columns=columns)"
         ]
      },
      {
         "cell_type": "markdown",
         "metadata": {},
         "source": [
            "Apply Pearson correlation on each pair of features."
         ]
      },
      {
         "cell_type": "code",
         "execution_count": null,
         "metadata": {},
         "outputs": [],
         "source": [
            "for col_a in range(nColumns):\n",
            "    for col_b in range(nColumns):\n",
            "        result.iloc[[col_a], [col_b]] = pearsonr(train.loc[:, columns[col_a]], train.loc[:,  columns[col_b]])[0]\n",
            "        \n",
            "fig, ax = plt.subplots(figsize=(10,10))\n",
            "ax = sns.heatmap(result, yticklabels=columns, vmin=-1, vmax=1, annot=True, fmt='.2f', linewidths=.2)\n",
            "ax.set_title('PCC - Pearson correlation coefficient')\n",
            "plt.show()"
         ]
      },
      {
         "cell_type": "code",
         "execution_count": null,
         "metadata": {},
         "outputs": [],
         "source": [
            "continuous_numeric_features = ['Age', 'Fare', 'Parch', 'SibSp']\n",
            "for feature in continuous_numeric_features:\n",
            "    sns.distplot(train[feature])\n",
            "    plt.show()\n",
            "    \n",
            "train.drop(['train', target, 'Pclass'], axis=1, inplace=True)\n",
            "test.drop(['train', target, 'Pclass'], axis=1, inplace=True)"
         ]
      },
      {
         "cell_type": "code",
         "execution_count": null,
         "metadata": {},
         "outputs": [],
         "source": [
            "X_train, X_val, Y_train, Y_val = train_test_split(train, labels, test_size=0.2, random_state=1)"
         ]
      },
      {
         "cell_type": "code",
         "execution_count": null,
         "metadata": {},
         "outputs": [],
         "source": [
            "X_train.head()"
         ]
      },
      {
         "cell_type": "code",
         "execution_count": null,
         "metadata": {},
         "outputs": [],
         "source": [
            "X_train1, X_train2, Y_train1, Y_train2 = train_test_split(X_train, Y_train, test_size=0.3, random_state=12)"
         ]
      },
      {
         "cell_type": "code",
         "execution_count": null,
         "metadata": {},
         "outputs": [],
         "source": [
            "classifier = GaussianNB()"
         ]
      },
      {
         "cell_type": "code",
         "execution_count": null,
         "metadata": {},
         "outputs": [],
         "source": [
            "classifier.fit(X_train2, Y_train2)"
         ]
      },
      {
         "cell_type": "code",
         "execution_count": null,
         "metadata": {},
         "outputs": [],
         "source": [
            "print('Metrics with only 30% of train data')\n",
            "cross_validate(classifier, (X_train, Y_train), (X_val, Y_val))"
         ]
      },
      {
         "cell_type": "code",
         "execution_count": null,
         "metadata": {},
         "outputs": [],
         "source": [
            "classifier.partial_fit(X_train1, Y_train1)"
         ]
      },
      {
         "cell_type": "code",
         "execution_count": null,
         "metadata": {},
         "outputs": [],
         "source": [
            "print('Metrics with the remaining 70% of train data')\n",
            "cross_validate(classifier, (X_train, Y_train), (X_val, Y_val))"
         ]
      },
      {
         "cell_type": "code",
         "execution_count": null,
         "metadata": {},
         "outputs": [],
         "source": [
            "print('Probability of each class')\n",
            "print('Survive = 0: %.2f' % classifier.class_prior_[0])\n",
            "print('Survive = 1: %.2f' % classifier.class_prior_[1])"
         ]
      },
      {
         "cell_type": "code",
         "execution_count": null,
         "metadata": {},
         "outputs": [],
         "source": [
            "print('Mean of each feature per class')\n",
            "print('               Age         Embarked   Fare         Parch       Sex         SibSp')\n",
            "print('Survive = 0: %s' % classifier.theta_[0])\n",
            "print('Survive = 1: %s' % classifier.theta_[1])"
         ]
      },
      {
         "cell_type": "code",
         "execution_count": null,
         "metadata": {},
         "outputs": [],
         "source": [
            "print('Variance of each feature per class')\n",
            "print('Survive = 0: %s' % classifier.sigma_[0])\n",
            "print('Survive = 1: %s' % classifier.sigma_[1])"
         ]
      },
      {
         "cell_type": "markdown",
         "metadata": {},
         "source": [
            "Unfortunately sklearn naive Bayes algorithm currently do not make inference with missing data (but should do), so we need to input missing data."
         ]
      },
      {
         "cell_type": "code",
         "execution_count": null,
         "metadata": {},
         "outputs": [],
         "source": [
            "test.fillna(test.mean(), inplace=True)\n",
            "test_predictions = classifier.predict(test)\n",
            "submission = pd.DataFrame({'PassengerId': test_ids})\n",
            "submission['Survived'] = test_predictions.astype('int')\n",
            "submission.to_csv('submission.csv', index=False)\n",
            "submission.head(10)"
         ]
      }
   ],
   "metadata": {
      "kernelspec": {
         "display_name": "Python 3",
         "language": "python",
         "name": "python3"
      },
      "language_info": {
         "codemirror_mode": {
            "name": "ipython",
            "version": 3
         },
         "file_extension": ".py",
         "mimetype": "text/x-python",
         "name": "python",
         "nbconvert_exporter": "python",
         "pygments_lexer": "ipython3",
         "version": "3.6.4"
      }
   },
   "nbformat": 4,
   "nbformat_minor": 2
}
