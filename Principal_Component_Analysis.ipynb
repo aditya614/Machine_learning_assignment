
{
   "cells": [
      {
         "cell_type": "code",
         "execution_count": null,
         "metadata": {},
         "outputs": [],
         "source": [
            "import numpy as np # linear algebra\n",
            "import pandas as pd # data processing, CSV file I/O (e.g. pd.read_csv)\n",
            "from sklearn import datasets\n",
            "from sklearn.model_selection import train_test_split\n",
            "from sklearn.neighbors import KNeighborsClassifier\n",
            "import seaborn as sns\n",
            "sns.set()\n",
            "import matplotlib.pyplot as plt\n",
            "import os"
         ]
      },
      {
         "cell_type": "code",
         "execution_count": null,
         "metadata": {},
         "outputs": [],
         "source": [
            "iris_data = pd.read_csv(\"/Users/chinmayanand/downloads/Iris Dataset.csv\",index_col='Id')"
         ]
      },
      {
         "cell_type": "code",
         "execution_count": null,
         "metadata": {},
         "outputs": [],
         "source": [
            "iris_data.info()"
         ]
      },
      {
         "cell_type": "code",
         "execution_count": null,
         "metadata": {},
         "outputs": [],
         "source": [
            "iris_data.describe()"
         ]
      },
      {
         "cell_type": "code",
         "execution_count": null,
         "metadata": {},
         "outputs": [],
         "source": [
            "iris_data.head()"
         ]
      },
      {
         "cell_type": "markdown",
         "metadata": {},
         "source": [
            " Label encoding since the algorithms we are going to use do not take non numerical or boolean data as inputs"
         ]
      },
      {
         "cell_type": "code",
         "execution_count": null,
         "metadata": {},
         "outputs": [],
         "source": [
            "iris_data.Species.replace({'Iris-setosa':0,'Iris-versicolor':1, 'Iris-virginica':2},inplace=True)"
         ]
      },
      {
         "cell_type": "code",
         "execution_count": null,
         "metadata": {},
         "outputs": [],
         "source": [
            "iris_data.head()"
         ]
      },
      {
         "cell_type": "markdown",
         "metadata": {},
         "source": [
            " null count analysis before modelling to keep check"
         ]
      },
      {
         "cell_type": "code",
         "execution_count": null,
         "metadata": {},
         "outputs": [],
         "source": [
            "import missingno as msno\n",
            "p=msno.bar(iris_data)"
         ]
      },
      {
         "cell_type": "code",
         "execution_count": null,
         "metadata": {},
         "outputs": [],
         "source": [
            "sns.countplot(y=iris_data.Species ,data=iris_data)\n",
            "plt.xlabel(\"Count of each Target class\")\n",
            "plt.ylabel(\"Target classes\")\n",
            "plt.show()"
         ]
      },
      {
         "cell_type": "code",
         "execution_count": null,
         "metadata": {},
         "outputs": [],
         "source": [
            "fig,ax = plt.subplots(nrows = 2, ncols=2, figsize=(16,10))\n",
            "row = 0\n",
            "col = 0\n",
            "for i in range(len(iris_data.columns) -1):\n",
            "    if col > 1:\n",
            "        row += 1\n",
            "        col = 0\n",
            "    axes = ax[row,col]\n",
            "    sns.boxplot(x = iris_data['Species'], y = iris_data[iris_data.columns[i]],ax = axes)\n",
            "    col += 1\n",
            "plt.tight_layout()\n",
            "# plt.title(\"Individual Features by Class\")\n",
            "plt.show()"
         ]
      },
      {
         "cell_type": "code",
         "execution_count": null,
         "metadata": {},
         "outputs": [],
         "source": [
            "p=sns.pairplot(iris_data, hue = 'Species')"
         ]
      },
      {
         "cell_type": "code",
         "execution_count": null,
         "metadata": {},
         "outputs": [],
         "source": [
            "plt.figure(figsize=(15,15))\n",
            "p=sns.heatmap(iris_data.corr(), annot=True,cmap='RdYlGn') "
         ]
      },
      {
         "cell_type": "code",
         "execution_count": null,
         "metadata": {},
         "outputs": [],
         "source": [
            "iris_data.hist(figsize=(15,12),bins = 15)\n",
            "plt.title(\"Features Distribution\")\n",
            "plt.show()"
         ]
      },
      {
         "cell_type": "code",
         "execution_count": null,
         "metadata": {},
         "outputs": [],
         "source": [
            "X = iris_data.drop(['Species'],axis=1)\n",
            "y = iris_data.Species"
         ]
      },
      {
         "cell_type": "code",
         "execution_count": null,
         "metadata": {},
         "outputs": [],
         "source": [
            "from sklearn.preprocessing import MinMaxScaler\n",
            "scaler = MinMaxScaler()\n",
            "X=scaler.fit_transform(X)"
         ]
      },
      {
         "cell_type": "code",
         "execution_count": null,
         "metadata": {},
         "outputs": [],
         "source": [
            "X_train, X_test, y_train, y_test = train_test_split(X, y, test_size = 0.3, random_state=20, stratify=y)"
         ]
      },
      {
         "cell_type": "code",
         "execution_count": null,
         "metadata": {},
         "outputs": [],
         "source": [
            "knn = KNeighborsClassifier(7)\n",
            "knn.fit(X_train,y_train)\n",
            "print(\"Train score before PCA\",knn.score(X_train,y_train),\"%\")\n",
            "print(\"Test score before PCA\",knn.score(X_test,y_test),\"%\")"
         ]
      },
      {
         "cell_type": "code",
         "execution_count": null,
         "metadata": {},
         "outputs": [],
         "source": [
            "from sklearn.decomposition import PCA\n",
            "pca = PCA()\n",
            "X_new = pca.fit_transform(X)"
         ]
      },
      {
         "cell_type": "code",
         "execution_count": null,
         "metadata": {},
         "outputs": [],
         "source": [
            "pca.get_covariance()"
         ]
      },
      {
         "cell_type": "code",
         "execution_count": null,
         "metadata": {},
         "outputs": [],
         "source": [
            "explained_variance=pca.explained_variance_ratio_\n",
            "explained_variance"
         ]
      },
      {
         "cell_type": "code",
         "execution_count": null,
         "metadata": {},
         "outputs": [],
         "source": [
            "with plt.style.context('dark_background'):\n",
            "    plt.figure(figsize=(6, 4))\n",
            "    plt.bar(range(4), explained_variance, alpha=0.5, align='center',\n",
            "            label='individual explained variance')\n",
            "    plt.ylabel('Explained variance ratio')\n",
            "    plt.xlabel('Principal components')\n",
            "    plt.legend(loc='best')\n",
            "    plt.tight_layout()\n",
            "    \n",
            "pca=PCA(n_components=3)\n",
            "X_new=pca.fit_transform(X)"
         ]
      },
      {
         "cell_type": "code",
         "execution_count": null,
         "metadata": {},
         "outputs": [],
         "source": [
            "X_train_new, X_test_new, y_train, y_test = train_test_split(X_new, y, test_size = 0.3, random_state=20, stratify=y)"
         ]
      },
      {
         "cell_type": "code",
         "execution_count": null,
         "metadata": {},
         "outputs": [],
         "source": [
            "knn_pca = KNeighborsClassifier(7)\n",
            "knn_pca.fit(X_train_new,y_train)\n",
            "print(\"Train score after PCA\",knn_pca.score(X_train_new,y_train),\"%\")\n",
            "print(\"Test score after PCA\",knn_pca.score(X_test_new,y_test),\"%\")"
         ]
      },
      {
         "cell_type": "markdown",
         "metadata": {},
         "source": [
            "Visualising the Test set results"
         ]
      },
      {
         "cell_type": "code",
         "execution_count": null,
         "metadata": {},
         "outputs": [],
         "source": [
            "classifier = knn_pca\n",
            "from matplotlib.colors import ListedColormap\n",
            "X_set, y_set = X_test_new, y_test\n",
            "X1, X2 = np.meshgrid(np.arange(start = X_set[:, 0].min() - 1, stop = X_set[:, 0].max() + 1, step = 0.01),\n",
            "                     np.arange(start = X_set[:, 1].min() - 1, stop = X_set[:, 1].max() + 1, step = 0.01))\n",
            "plt.contourf(X1, X2, classifier.predict(np.array([X1.ravel(), X2.ravel(),np.zeros((X1.shape[0],X1.shape[1])).ravel()]).T).reshape(X1.shape),\n",
            "             alpha = 0.75, cmap = ListedColormap(('pink', 'lightgreen')))\n",
            "plt.xlim(X1.min(), X1.max())\n",
            "plt.ylim(X2.min(), X2.max())\n",
            "for i, j in enumerate(np.unique(y_set)):\n",
            "    plt.scatter(X_set[y_set == j, 0], X_set[y_set == j, 1],\n",
            "                c = ListedColormap(('red', 'green'))(i), label = j)\n",
            "plt.title('KNN PCA (Test set)')\n",
            "plt.xlabel('PC1')\n",
            "plt.ylabel('PC2')\n",
            "plt.legend()\n",
            "plt.show()"
         ]
      }
   ],
   "metadata": {
      "kernelspec": {
         "display_name": "Python 3",
         "language": "python",
         "name": "python3"
      },
      "language_info": {
         "codemirror_mode": {
            "name": "ipython",
            "version": 3
         },
         "file_extension": ".py",
         "mimetype": "text/x-python",
         "name": "python",
         "nbconvert_exporter": "python",
         "pygments_lexer": "ipython3",
         "version": "3.6.4"
      }
   },
   "nbformat": 4,
   "nbformat_minor": 2
}
